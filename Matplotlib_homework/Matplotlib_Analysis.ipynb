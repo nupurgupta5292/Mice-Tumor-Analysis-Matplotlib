{
 "cells": [
  {
   "cell_type": "markdown",
   "metadata": {},
   "source": [
    "# Observations"
   ]
  },
  {
   "cell_type": "markdown",
   "metadata": {},
   "source": [
    "#### - Capomulin and Ramicane were administered to most number of mice. Given their similar final tumor volume range, Ramicane will be the most direct competitor to Pymaceutical's Capomulin\n",
    "#### - Ratio of female to male rats was almost similar in the study, which can be used to perform gender specific analysis to see of any of the drug performs better in any of the gender\n",
    "#### - Only Infubinol seems to exhibit an outlier observation, out of its lower bound range of 42.38 mm3\n",
    "#### - Capomulin seems to be a very effective drug, with a decrease in tumor volume by almost 48.1% in Mouse ID s185 at Day 45 of administration\n",
    "#### - There appears to be a high, positive correlation (0.84) between the weight of mice treated with Capomulin and the average tumor volume"
   ]
  },
  {
   "cell_type": "code",
   "execution_count": null,
   "metadata": {},
   "outputs": [],
   "source": []
  },
  {
   "cell_type": "code",
   "execution_count": 251,
   "metadata": {},
   "outputs": [],
   "source": [
    "# Importing dependencies\n",
    "import pandas as pd\n",
    "import matplotlib.pyplot as plt\n",
    "import scipy.stats as sts\n",
    "import numpy as np\n",
    "from scipy.stats import linregress"
   ]
  },
  {
   "cell_type": "code",
   "execution_count": 252,
   "metadata": {},
   "outputs": [
    {
     "data": {
      "text/html": [
       "<div>\n",
       "<style scoped>\n",
       "    .dataframe tbody tr th:only-of-type {\n",
       "        vertical-align: middle;\n",
       "    }\n",
       "\n",
       "    .dataframe tbody tr th {\n",
       "        vertical-align: top;\n",
       "    }\n",
       "\n",
       "    .dataframe thead th {\n",
       "        text-align: right;\n",
       "    }\n",
       "</style>\n",
       "<table border=\"1\" class=\"dataframe\">\n",
       "  <thead>\n",
       "    <tr style=\"text-align: right;\">\n",
       "      <th></th>\n",
       "      <th>Mouse ID</th>\n",
       "      <th>Drug Regimen</th>\n",
       "      <th>Sex</th>\n",
       "      <th>Age_months</th>\n",
       "      <th>Weight (g)</th>\n",
       "    </tr>\n",
       "  </thead>\n",
       "  <tbody>\n",
       "    <tr>\n",
       "      <td>0</td>\n",
       "      <td>k403</td>\n",
       "      <td>Ramicane</td>\n",
       "      <td>Male</td>\n",
       "      <td>21</td>\n",
       "      <td>16</td>\n",
       "    </tr>\n",
       "    <tr>\n",
       "      <td>1</td>\n",
       "      <td>s185</td>\n",
       "      <td>Capomulin</td>\n",
       "      <td>Female</td>\n",
       "      <td>3</td>\n",
       "      <td>17</td>\n",
       "    </tr>\n",
       "    <tr>\n",
       "      <td>2</td>\n",
       "      <td>x401</td>\n",
       "      <td>Capomulin</td>\n",
       "      <td>Female</td>\n",
       "      <td>16</td>\n",
       "      <td>15</td>\n",
       "    </tr>\n",
       "    <tr>\n",
       "      <td>3</td>\n",
       "      <td>m601</td>\n",
       "      <td>Capomulin</td>\n",
       "      <td>Male</td>\n",
       "      <td>22</td>\n",
       "      <td>17</td>\n",
       "    </tr>\n",
       "    <tr>\n",
       "      <td>4</td>\n",
       "      <td>g791</td>\n",
       "      <td>Ramicane</td>\n",
       "      <td>Male</td>\n",
       "      <td>11</td>\n",
       "      <td>16</td>\n",
       "    </tr>\n",
       "  </tbody>\n",
       "</table>\n",
       "</div>"
      ],
      "text/plain": [
       "  Mouse ID Drug Regimen     Sex  Age_months  Weight (g)\n",
       "0     k403     Ramicane    Male          21          16\n",
       "1     s185    Capomulin  Female           3          17\n",
       "2     x401    Capomulin  Female          16          15\n",
       "3     m601    Capomulin    Male          22          17\n",
       "4     g791     Ramicane    Male          11          16"
      ]
     },
     "execution_count": 252,
     "metadata": {},
     "output_type": "execute_result"
    }
   ],
   "source": [
    "# Importing resource csvs\n",
    "path_mousedata = \"Resources/Mouse_metadata.csv\"\n",
    "path_studyresults = \"Resources/Study_results.csv\"\n",
    "\n",
    "mouse_data = pd.read_csv(path_mousedata)\n",
    "study_results = pd.read_csv(path_studyresults)\n",
    "mouse_data.head()\n",
    "# study_results.head()"
   ]
  },
  {
   "cell_type": "code",
   "execution_count": 253,
   "metadata": {},
   "outputs": [
    {
     "data": {
      "text/html": [
       "<div>\n",
       "<style scoped>\n",
       "    .dataframe tbody tr th:only-of-type {\n",
       "        vertical-align: middle;\n",
       "    }\n",
       "\n",
       "    .dataframe tbody tr th {\n",
       "        vertical-align: top;\n",
       "    }\n",
       "\n",
       "    .dataframe thead th {\n",
       "        text-align: right;\n",
       "    }\n",
       "</style>\n",
       "<table border=\"1\" class=\"dataframe\">\n",
       "  <thead>\n",
       "    <tr style=\"text-align: right;\">\n",
       "      <th></th>\n",
       "      <th>Mouse ID</th>\n",
       "      <th>Drug Regimen</th>\n",
       "      <th>Sex</th>\n",
       "      <th>Age_months</th>\n",
       "      <th>Weight (g)</th>\n",
       "      <th>Timepoint</th>\n",
       "      <th>Tumor Volume (mm3)</th>\n",
       "      <th>Metastatic Sites</th>\n",
       "    </tr>\n",
       "  </thead>\n",
       "  <tbody>\n",
       "    <tr>\n",
       "      <td>0</td>\n",
       "      <td>k403</td>\n",
       "      <td>Ramicane</td>\n",
       "      <td>Male</td>\n",
       "      <td>21</td>\n",
       "      <td>16</td>\n",
       "      <td>0</td>\n",
       "      <td>45.000000</td>\n",
       "      <td>0</td>\n",
       "    </tr>\n",
       "    <tr>\n",
       "      <td>1</td>\n",
       "      <td>k403</td>\n",
       "      <td>Ramicane</td>\n",
       "      <td>Male</td>\n",
       "      <td>21</td>\n",
       "      <td>16</td>\n",
       "      <td>5</td>\n",
       "      <td>38.825898</td>\n",
       "      <td>0</td>\n",
       "    </tr>\n",
       "    <tr>\n",
       "      <td>2</td>\n",
       "      <td>k403</td>\n",
       "      <td>Ramicane</td>\n",
       "      <td>Male</td>\n",
       "      <td>21</td>\n",
       "      <td>16</td>\n",
       "      <td>10</td>\n",
       "      <td>35.014271</td>\n",
       "      <td>1</td>\n",
       "    </tr>\n",
       "    <tr>\n",
       "      <td>3</td>\n",
       "      <td>k403</td>\n",
       "      <td>Ramicane</td>\n",
       "      <td>Male</td>\n",
       "      <td>21</td>\n",
       "      <td>16</td>\n",
       "      <td>15</td>\n",
       "      <td>34.223992</td>\n",
       "      <td>1</td>\n",
       "    </tr>\n",
       "    <tr>\n",
       "      <td>4</td>\n",
       "      <td>k403</td>\n",
       "      <td>Ramicane</td>\n",
       "      <td>Male</td>\n",
       "      <td>21</td>\n",
       "      <td>16</td>\n",
       "      <td>20</td>\n",
       "      <td>32.997729</td>\n",
       "      <td>1</td>\n",
       "    </tr>\n",
       "  </tbody>\n",
       "</table>\n",
       "</div>"
      ],
      "text/plain": [
       "  Mouse ID Drug Regimen   Sex  Age_months  Weight (g)  Timepoint  \\\n",
       "0     k403     Ramicane  Male          21          16          0   \n",
       "1     k403     Ramicane  Male          21          16          5   \n",
       "2     k403     Ramicane  Male          21          16         10   \n",
       "3     k403     Ramicane  Male          21          16         15   \n",
       "4     k403     Ramicane  Male          21          16         20   \n",
       "\n",
       "   Tumor Volume (mm3)  Metastatic Sites  \n",
       "0           45.000000                 0  \n",
       "1           38.825898                 0  \n",
       "2           35.014271                 1  \n",
       "3           34.223992                 1  \n",
       "4           32.997729                 1  "
      ]
     },
     "execution_count": 253,
     "metadata": {},
     "output_type": "execute_result"
    }
   ],
   "source": [
    "# Combine the data into a single dataset\n",
    "mouse_study_data = pd.merge(mouse_data,study_results,how='outer',on='Mouse ID')\n",
    "mouse_study_data.head()"
   ]
  },
  {
   "cell_type": "code",
   "execution_count": 254,
   "metadata": {},
   "outputs": [
    {
     "data": {
      "text/plain": [
       "Index(['Mouse ID', 'Drug Regimen', 'Sex', 'Age_months', 'Weight (g)',\n",
       "       'Timepoint', 'Tumor Volume (mm3)', 'Metastatic Sites'],\n",
       "      dtype='object')"
      ]
     },
     "execution_count": 254,
     "metadata": {},
     "output_type": "execute_result"
    }
   ],
   "source": [
    "mouse_study_data.columns"
   ]
  },
  {
   "cell_type": "code",
   "execution_count": 255,
   "metadata": {},
   "outputs": [
    {
     "data": {
      "text/plain": [
       "Mouse ID               object\n",
       "Drug Regimen           object\n",
       "Sex                    object\n",
       "Age_months              int64\n",
       "Weight (g)              int64\n",
       "Timepoint               int64\n",
       "Tumor Volume (mm3)    float64\n",
       "Metastatic Sites        int64\n",
       "dtype: object"
      ]
     },
     "execution_count": 255,
     "metadata": {},
     "output_type": "execute_result"
    }
   ],
   "source": [
    "mouse_study_data.dtypes"
   ]
  },
  {
   "cell_type": "code",
   "execution_count": 256,
   "metadata": {},
   "outputs": [
    {
     "data": {
      "text/plain": [
       "array(['Ramicane', 'Capomulin', 'Infubinol', 'Placebo', 'Ceftamin',\n",
       "       'Stelasyn', 'Zoniferol', 'Ketapril', 'Propriva', 'Naftisol'],\n",
       "      dtype=object)"
      ]
     },
     "execution_count": 256,
     "metadata": {},
     "output_type": "execute_result"
    }
   ],
   "source": [
    "# Storing unique drug names\n",
    "drug_names = mouse_study_data['Drug Regimen'].unique()\n",
    "drug_names"
   ]
  },
  {
   "cell_type": "markdown",
   "metadata": {},
   "source": [
    "# Summary Statistics"
   ]
  },
  {
   "cell_type": "code",
   "execution_count": 257,
   "metadata": {},
   "outputs": [
    {
     "data": {
      "text/html": [
       "<div>\n",
       "<style scoped>\n",
       "    .dataframe tbody tr th:only-of-type {\n",
       "        vertical-align: middle;\n",
       "    }\n",
       "\n",
       "    .dataframe tbody tr th {\n",
       "        vertical-align: top;\n",
       "    }\n",
       "\n",
       "    .dataframe thead th {\n",
       "        text-align: right;\n",
       "    }\n",
       "</style>\n",
       "<table border=\"1\" class=\"dataframe\">\n",
       "  <thead>\n",
       "    <tr style=\"text-align: right;\">\n",
       "      <th></th>\n",
       "      <th>Mean</th>\n",
       "      <th>Median</th>\n",
       "      <th>Mode</th>\n",
       "      <th>Variance</th>\n",
       "      <th>Standard Deviation</th>\n",
       "      <th>SEM</th>\n",
       "    </tr>\n",
       "    <tr>\n",
       "      <th>Drug Regimen</th>\n",
       "      <th></th>\n",
       "      <th></th>\n",
       "      <th></th>\n",
       "      <th></th>\n",
       "      <th></th>\n",
       "      <th></th>\n",
       "    </tr>\n",
       "  </thead>\n",
       "  <tbody>\n",
       "    <tr>\n",
       "      <td>Capomulin</td>\n",
       "      <td>40.68</td>\n",
       "      <td>41.56</td>\n",
       "      <td>45.0</td>\n",
       "      <td>24.95</td>\n",
       "      <td>4.99</td>\n",
       "      <td>0.33</td>\n",
       "    </tr>\n",
       "    <tr>\n",
       "      <td>Ceftamin</td>\n",
       "      <td>52.59</td>\n",
       "      <td>51.78</td>\n",
       "      <td>45.0</td>\n",
       "      <td>39.29</td>\n",
       "      <td>6.27</td>\n",
       "      <td>0.47</td>\n",
       "    </tr>\n",
       "    <tr>\n",
       "      <td>Infubinol</td>\n",
       "      <td>52.88</td>\n",
       "      <td>51.82</td>\n",
       "      <td>45.0</td>\n",
       "      <td>43.13</td>\n",
       "      <td>6.57</td>\n",
       "      <td>0.49</td>\n",
       "    </tr>\n",
       "    <tr>\n",
       "      <td>Ketapril</td>\n",
       "      <td>55.24</td>\n",
       "      <td>53.70</td>\n",
       "      <td>45.0</td>\n",
       "      <td>68.55</td>\n",
       "      <td>8.28</td>\n",
       "      <td>0.60</td>\n",
       "    </tr>\n",
       "    <tr>\n",
       "      <td>Naftisol</td>\n",
       "      <td>54.33</td>\n",
       "      <td>52.51</td>\n",
       "      <td>45.0</td>\n",
       "      <td>66.17</td>\n",
       "      <td>8.13</td>\n",
       "      <td>0.60</td>\n",
       "    </tr>\n",
       "    <tr>\n",
       "      <td>Placebo</td>\n",
       "      <td>54.03</td>\n",
       "      <td>52.29</td>\n",
       "      <td>45.0</td>\n",
       "      <td>61.17</td>\n",
       "      <td>7.82</td>\n",
       "      <td>0.58</td>\n",
       "    </tr>\n",
       "    <tr>\n",
       "      <td>Propriva</td>\n",
       "      <td>52.32</td>\n",
       "      <td>50.85</td>\n",
       "      <td>45.0</td>\n",
       "      <td>42.35</td>\n",
       "      <td>6.51</td>\n",
       "      <td>0.51</td>\n",
       "    </tr>\n",
       "    <tr>\n",
       "      <td>Ramicane</td>\n",
       "      <td>40.22</td>\n",
       "      <td>40.67</td>\n",
       "      <td>45.0</td>\n",
       "      <td>23.49</td>\n",
       "      <td>4.85</td>\n",
       "      <td>0.32</td>\n",
       "    </tr>\n",
       "    <tr>\n",
       "      <td>Stelasyn</td>\n",
       "      <td>54.23</td>\n",
       "      <td>52.43</td>\n",
       "      <td>45.0</td>\n",
       "      <td>59.45</td>\n",
       "      <td>7.71</td>\n",
       "      <td>0.57</td>\n",
       "    </tr>\n",
       "    <tr>\n",
       "      <td>Zoniferol</td>\n",
       "      <td>53.24</td>\n",
       "      <td>51.82</td>\n",
       "      <td>45.0</td>\n",
       "      <td>48.53</td>\n",
       "      <td>6.97</td>\n",
       "      <td>0.52</td>\n",
       "    </tr>\n",
       "  </tbody>\n",
       "</table>\n",
       "</div>"
      ],
      "text/plain": [
       "               Mean  Median  Mode  Variance  Standard Deviation   SEM\n",
       "Drug Regimen                                                         \n",
       "Capomulin     40.68   41.56  45.0     24.95                4.99  0.33\n",
       "Ceftamin      52.59   51.78  45.0     39.29                6.27  0.47\n",
       "Infubinol     52.88   51.82  45.0     43.13                6.57  0.49\n",
       "Ketapril      55.24   53.70  45.0     68.55                8.28  0.60\n",
       "Naftisol      54.33   52.51  45.0     66.17                8.13  0.60\n",
       "Placebo       54.03   52.29  45.0     61.17                7.82  0.58\n",
       "Propriva      52.32   50.85  45.0     42.35                6.51  0.51\n",
       "Ramicane      40.22   40.67  45.0     23.49                4.85  0.32\n",
       "Stelasyn      54.23   52.43  45.0     59.45                7.71  0.57\n",
       "Zoniferol     53.24   51.82  45.0     48.53                6.97  0.52"
      ]
     },
     "execution_count": 257,
     "metadata": {},
     "output_type": "execute_result"
    }
   ],
   "source": [
    "# Generate a summary statistics table of mean, median, variance, standard deviation, and SEM of the tumor volume for each regimen\n",
    "\n",
    "grouped_mouse_study_data = mouse_study_data.groupby(['Drug Regimen'])\n",
    "\n",
    "tumor_vol_means = round(grouped_mouse_study_data['Tumor Volume (mm3)'].mean(),2)\n",
    "# tumor_vol_means\n",
    "tumor_vol_medians = round(grouped_mouse_study_data['Tumor Volume (mm3)'].median(),2)\n",
    "# tumor_vol_medians\n",
    "tumor_vol_modes = round(grouped_mouse_study_data['Tumor Volume (mm3)'].agg(pd.Series.mode),2)\n",
    "# tumor_vol_modes\n",
    "tumor_vol_variance = round(grouped_mouse_study_data['Tumor Volume (mm3)'].var(),2)\n",
    "# tumor_vol_variance\n",
    "tumor_vol_stdev = round(grouped_mouse_study_data['Tumor Volume (mm3)'].std(),2)\n",
    "#tumor_vol_stdev\n",
    "tumor_vol_sem = round(grouped_mouse_study_data['Tumor Volume (mm3)'].sem(),2)\n",
    "# tumor_vol_sem\n",
    "\n",
    "summary_statistics = {\"Mean\": tumor_vol_means,\n",
    "                     \"Median\": tumor_vol_medians,\n",
    "                     \"Mode\": tumor_vol_modes,\n",
    "                     \"Variance\": tumor_vol_variance,\n",
    "                     \"Standard Deviation\": tumor_vol_stdev,\n",
    "                     \"SEM\": tumor_vol_sem}\n",
    "summary_statistics_df = pd.DataFrame(summary_statistics)\n",
    "summary_statistics_df"
   ]
  },
  {
   "cell_type": "markdown",
   "metadata": {},
   "source": [
    "# Bar Plots"
   ]
  },
  {
   "cell_type": "code",
   "execution_count": 258,
   "metadata": {},
   "outputs": [
    {
     "data": {
      "text/html": [
       "<div>\n",
       "<style scoped>\n",
       "    .dataframe tbody tr th:only-of-type {\n",
       "        vertical-align: middle;\n",
       "    }\n",
       "\n",
       "    .dataframe tbody tr th {\n",
       "        vertical-align: top;\n",
       "    }\n",
       "\n",
       "    .dataframe thead th {\n",
       "        text-align: right;\n",
       "    }\n",
       "</style>\n",
       "<table border=\"1\" class=\"dataframe\">\n",
       "  <thead>\n",
       "    <tr style=\"text-align: right;\">\n",
       "      <th></th>\n",
       "      <th>Count</th>\n",
       "    </tr>\n",
       "  </thead>\n",
       "  <tbody>\n",
       "    <tr>\n",
       "      <td>Capomulin</td>\n",
       "      <td>230</td>\n",
       "    </tr>\n",
       "    <tr>\n",
       "      <td>Ramicane</td>\n",
       "      <td>228</td>\n",
       "    </tr>\n",
       "    <tr>\n",
       "      <td>Ketapril</td>\n",
       "      <td>188</td>\n",
       "    </tr>\n",
       "    <tr>\n",
       "      <td>Naftisol</td>\n",
       "      <td>186</td>\n",
       "    </tr>\n",
       "    <tr>\n",
       "      <td>Zoniferol</td>\n",
       "      <td>182</td>\n",
       "    </tr>\n",
       "    <tr>\n",
       "      <td>Placebo</td>\n",
       "      <td>181</td>\n",
       "    </tr>\n",
       "    <tr>\n",
       "      <td>Stelasyn</td>\n",
       "      <td>181</td>\n",
       "    </tr>\n",
       "    <tr>\n",
       "      <td>Ceftamin</td>\n",
       "      <td>178</td>\n",
       "    </tr>\n",
       "    <tr>\n",
       "      <td>Infubinol</td>\n",
       "      <td>178</td>\n",
       "    </tr>\n",
       "    <tr>\n",
       "      <td>Propriva</td>\n",
       "      <td>161</td>\n",
       "    </tr>\n",
       "  </tbody>\n",
       "</table>\n",
       "</div>"
      ],
      "text/plain": [
       "           Count\n",
       "Capomulin    230\n",
       "Ramicane     228\n",
       "Ketapril     188\n",
       "Naftisol     186\n",
       "Zoniferol    182\n",
       "Placebo      181\n",
       "Stelasyn     181\n",
       "Ceftamin     178\n",
       "Infubinol    178\n",
       "Propriva     161"
      ]
     },
     "execution_count": 258,
     "metadata": {},
     "output_type": "execute_result"
    }
   ],
   "source": [
    "# Generate a bar plot showing number of data points for each treatment regimen using pandas\n",
    "drug_count = mouse_study_data['Drug Regimen'].value_counts()\n",
    "drug_count_df = pd.DataFrame(drug_count)\n",
    "drug_count_df = drug_count_df.rename(columns={'Drug Regimen':'Count'})\n",
    "drug_count_df"
   ]
  },
  {
   "cell_type": "code",
   "execution_count": 259,
   "metadata": {},
   "outputs": [
    {
     "data": {
      "image/png": "[encoded data removed]",
      "text/plain": [
       "<Figure size 432x288 with 1 Axes>"
      ]
     },
     "metadata": {
      "needs_background": "light"
     },
     "output_type": "display_data"
    }
   ],
   "source": [
    "x_axis = np.arange(len(drug_names))\n",
    "# x_axis\n",
    "\n",
    "pandas_bar_plot = drug_count_df.plot(kind='bar',color='pink',width=0.5,legend=False)\n",
    "plt.title(\"Count For Each Drug Regimen\")\n",
    "plt.xlabel(\"Drug Regimen\")\n",
    "plt.ylabel(\"Number of times drug administered\")    \n",
    "plt.xlim(-0.5, len(x_axis)-0.5)\n",
    "plt.ylim(0, drug_count.max()+20)\n",
    "plt.tight_layout()\n",
    "plt.show()"
   ]
  },
  {
   "cell_type": "code",
   "execution_count": 261,
   "metadata": {},
   "outputs": [
    {
     "data": {
      "image/png": "[encoded data removed]",
      "text/plain": [
       "<Figure size 432x288 with 1 Axes>"
      ]
     },
     "metadata": {
      "needs_background": "light"
     },
     "output_type": "display_data"
    }
   ],
   "source": [
    "# Generate a bar plot showing number of data points for each treatment regimen using pyplot\n",
    "matplotlib_bar_plot = plt.bar(x_axis,drug_count_df['Count'],width=0.5,color='pink',align='center')\n",
    "tick_locations = [value for value in x_axis]\n",
    "plt.xticks(tick_locations,drug_count_df.index,rotation=90)\n",
    "plt.title(\"Count For Each Drug Regimen\")\n",
    "plt.xlabel(\"Drug Regimen\")\n",
    "plt.ylabel(\"Number of times drug administered\")\n",
    "plt.xlim(-0.5, len(x_axis)-0.5)\n",
    "plt.ylim(0, drug_count.max()+20)\n",
    "plt.tight_layout()\n",
    "plt.show()"
   ]
  },
  {
   "cell_type": "markdown",
   "metadata": {},
   "source": [
    "# Pie Plots"
   ]
  },
  {
   "cell_type": "code",
   "execution_count": 262,
   "metadata": {},
   "outputs": [
    {
     "data": {
      "image/png": "[encoded data removed]",
      "text/plain": [
       "<Figure size 432x288 with 1 Axes>"
      ]
     },
     "metadata": {},
     "output_type": "display_data"
    }
   ],
   "source": [
    "# Generate a pie plot showing the distribution of female versus male mice using pandas\n",
    "\n",
    "mice_gender_data = mouse_study_data[['Mouse ID','Sex']]\n",
    "# mice_gender_data.head()\n",
    "mice_gender_data = mice_gender_data.drop_duplicates()\n",
    "# mice_gender_data.head()\n",
    "mice_gender_count = mice_gender_data['Sex'].value_counts()\n",
    "# mice_gender_count\n",
    "mice_gender_labels = mice_gender_data['Sex'].unique()\n",
    "#mice_gender_labels\n",
    "\n",
    "mice_gender_pie_pandas = mice_gender_count.plot(kind='pie', explode=(0.05,0),autopct=\"%1.1f%%\", shadow=True, startangle=150,title='Gender Distribution of Mice')\n",
    "plt.axis('equal')\n",
    "plt.show()"
   ]
  },
  {
   "cell_type": "code",
   "execution_count": 263,
   "metadata": {},
   "outputs": [
    {
     "data": {
      "image/png": "[encoded data removed]",
      "text/plain": [
       "<Figure size 432x288 with 1 Axes>"
      ]
     },
     "metadata": {},
     "output_type": "display_data"
    }
   ],
   "source": [
    "# Generate a pie plot showing the distribution of female versus male mice using pyplot\n",
    "mice_gender_pie_pyplot = plt.pie(mice_gender_count,explode=(0.05,0),labels=mice_gender_labels,autopct=\"%1.1f%%\", shadow=True, startangle=150)\n",
    "plt.ylabel('Sex')\n",
    "plt.title('Gender Distribution of Mice')\n",
    "plt.axis('equal')\n",
    "plt.show()"
   ]
  },
  {
   "cell_type": "markdown",
   "metadata": {},
   "source": [
    "# Quartiles, Outliers and Boxplots"
   ]
  },
  {
   "cell_type": "code",
   "execution_count": 264,
   "metadata": {
    "scrolled": true
   },
   "outputs": [
    {
     "data": {
      "text/html": [
       "<div>\n",
       "<style scoped>\n",
       "    .dataframe tbody tr th:only-of-type {\n",
       "        vertical-align: middle;\n",
       "    }\n",
       "\n",
       "    .dataframe tbody tr th {\n",
       "        vertical-align: top;\n",
       "    }\n",
       "\n",
       "    .dataframe thead th {\n",
       "        text-align: right;\n",
       "    }\n",
       "</style>\n",
       "<table border=\"1\" class=\"dataframe\">\n",
       "  <thead>\n",
       "    <tr style=\"text-align: right;\">\n",
       "      <th></th>\n",
       "      <th></th>\n",
       "      <th>Timepoint</th>\n",
       "      <th>Tumor Volume (mm3)</th>\n",
       "    </tr>\n",
       "    <tr>\n",
       "      <th>Mouse ID</th>\n",
       "      <th>Drug Regimen</th>\n",
       "      <th></th>\n",
       "      <th></th>\n",
       "    </tr>\n",
       "  </thead>\n",
       "  <tbody>\n",
       "    <tr>\n",
       "      <td>a203</td>\n",
       "      <td>Infubinol</td>\n",
       "      <td>45</td>\n",
       "      <td>67.973419</td>\n",
       "    </tr>\n",
       "    <tr>\n",
       "      <td>a251</td>\n",
       "      <td>Infubinol</td>\n",
       "      <td>45</td>\n",
       "      <td>65.525743</td>\n",
       "    </tr>\n",
       "    <tr>\n",
       "      <td>a275</td>\n",
       "      <td>Ceftamin</td>\n",
       "      <td>45</td>\n",
       "      <td>62.999356</td>\n",
       "    </tr>\n",
       "    <tr>\n",
       "      <td>a411</td>\n",
       "      <td>Ramicane</td>\n",
       "      <td>45</td>\n",
       "      <td>38.407618</td>\n",
       "    </tr>\n",
       "    <tr>\n",
       "      <td>a444</td>\n",
       "      <td>Ramicane</td>\n",
       "      <td>45</td>\n",
       "      <td>43.047543</td>\n",
       "    </tr>\n",
       "    <tr>\n",
       "      <td>...</td>\n",
       "      <td>...</td>\n",
       "      <td>...</td>\n",
       "      <td>...</td>\n",
       "    </tr>\n",
       "    <tr>\n",
       "      <td>y769</td>\n",
       "      <td>Ceftamin</td>\n",
       "      <td>45</td>\n",
       "      <td>68.594745</td>\n",
       "    </tr>\n",
       "    <tr>\n",
       "      <td>y793</td>\n",
       "      <td>Capomulin</td>\n",
       "      <td>45</td>\n",
       "      <td>31.896238</td>\n",
       "    </tr>\n",
       "    <tr>\n",
       "      <td>y865</td>\n",
       "      <td>Ceftamin</td>\n",
       "      <td>45</td>\n",
       "      <td>64.729837</td>\n",
       "    </tr>\n",
       "    <tr>\n",
       "      <td>z578</td>\n",
       "      <td>Ramicane</td>\n",
       "      <td>45</td>\n",
       "      <td>30.638696</td>\n",
       "    </tr>\n",
       "    <tr>\n",
       "      <td>z581</td>\n",
       "      <td>Infubinol</td>\n",
       "      <td>45</td>\n",
       "      <td>62.754451</td>\n",
       "    </tr>\n",
       "  </tbody>\n",
       "</table>\n",
       "<p>100 rows × 2 columns</p>\n",
       "</div>"
      ],
      "text/plain": [
       "                       Timepoint  Tumor Volume (mm3)\n",
       "Mouse ID Drug Regimen                               \n",
       "a203     Infubinol            45           67.973419\n",
       "a251     Infubinol            45           65.525743\n",
       "a275     Ceftamin             45           62.999356\n",
       "a411     Ramicane             45           38.407618\n",
       "a444     Ramicane             45           43.047543\n",
       "...                          ...                 ...\n",
       "y769     Ceftamin             45           68.594745\n",
       "y793     Capomulin            45           31.896238\n",
       "y865     Ceftamin             45           64.729837\n",
       "z578     Ramicane             45           30.638696\n",
       "z581     Infubinol            45           62.754451\n",
       "\n",
       "[100 rows x 2 columns]"
      ]
     },
     "execution_count": 264,
     "metadata": {},
     "output_type": "execute_result"
    }
   ],
   "source": [
    "# Calculate the final tumor volume of each mouse across four of the most promising treatment regimen- Capomulin, Ramicane, Infubinol, and Ceftamin.\n",
    "\n",
    "most_promising_regimen = ['Capomulin', 'Ramicane','Infubinol','Ceftamin']\n",
    "MouseID_unique = mouse_study_data['Mouse ID'].unique()\n",
    "# MouseID_unique\n",
    "\n",
    "# Assumption: Final Tumor Volume would be the tumor volume in a particular mouse at last timepoint\n",
    "\n",
    "tumor_volume_data = mouse_study_data[['Mouse ID','Drug Regimen','Timepoint','Tumor Volume (mm3)']]\n",
    "# tumor_volume_data\n",
    "\n",
    "specific_tumor_volume_data = tumor_volume_data.loc[(tumor_volume_data['Drug Regimen'] == 'Capomulin') | (tumor_volume_data['Drug Regimen'] == 'Ramicane') | (tumor_volume_data['Drug Regimen'] == 'Infubinol') | (tumor_volume_data['Drug Regimen'] == 'Ceftamin')]\n",
    "#specific_tumor_volume_data\n",
    "\n",
    "# Collecting final tumor volume data for the 4 regimen using .last() on grouped dataframe. Made sure that the 'Timeplot' column in the main csv data is sorted in ascending order before applying this function\n",
    "grouped_specific_tumor_volume_data = specific_tumor_volume_data.groupby(['Mouse ID','Drug Regimen'])\n",
    "grouped_specific_tumor_volume_data_df = pd.DataFrame(grouped_specific_tumor_volume_data.last())\n",
    "grouped_specific_tumor_volume_data_df\n"
   ]
  },
  {
   "cell_type": "code",
   "execution_count": 265,
   "metadata": {},
   "outputs": [
    {
     "data": {
      "text/html": [
       "<div>\n",
       "<style scoped>\n",
       "    .dataframe tbody tr th:only-of-type {\n",
       "        vertical-align: middle;\n",
       "    }\n",
       "\n",
       "    .dataframe tbody tr th {\n",
       "        vertical-align: top;\n",
       "    }\n",
       "\n",
       "    .dataframe thead th {\n",
       "        text-align: right;\n",
       "    }\n",
       "</style>\n",
       "<table border=\"1\" class=\"dataframe\">\n",
       "  <thead>\n",
       "    <tr style=\"text-align: right;\">\n",
       "      <th></th>\n",
       "      <th>Timepoint</th>\n",
       "      <th>Tumor Volume (mm3)</th>\n",
       "    </tr>\n",
       "    <tr>\n",
       "      <th>Drug Regimen</th>\n",
       "      <th></th>\n",
       "      <th></th>\n",
       "    </tr>\n",
       "  </thead>\n",
       "  <tbody>\n",
       "    <tr>\n",
       "      <td>Infubinol</td>\n",
       "      <td>45</td>\n",
       "      <td>67.973419</td>\n",
       "    </tr>\n",
       "    <tr>\n",
       "      <td>Infubinol</td>\n",
       "      <td>45</td>\n",
       "      <td>65.525743</td>\n",
       "    </tr>\n",
       "    <tr>\n",
       "      <td>Ceftamin</td>\n",
       "      <td>45</td>\n",
       "      <td>62.999356</td>\n",
       "    </tr>\n",
       "    <tr>\n",
       "      <td>Ramicane</td>\n",
       "      <td>45</td>\n",
       "      <td>38.407618</td>\n",
       "    </tr>\n",
       "    <tr>\n",
       "      <td>Ramicane</td>\n",
       "      <td>45</td>\n",
       "      <td>43.047543</td>\n",
       "    </tr>\n",
       "    <tr>\n",
       "      <td>...</td>\n",
       "      <td>...</td>\n",
       "      <td>...</td>\n",
       "    </tr>\n",
       "    <tr>\n",
       "      <td>Ceftamin</td>\n",
       "      <td>45</td>\n",
       "      <td>68.594745</td>\n",
       "    </tr>\n",
       "    <tr>\n",
       "      <td>Capomulin</td>\n",
       "      <td>45</td>\n",
       "      <td>31.896238</td>\n",
       "    </tr>\n",
       "    <tr>\n",
       "      <td>Ceftamin</td>\n",
       "      <td>45</td>\n",
       "      <td>64.729837</td>\n",
       "    </tr>\n",
       "    <tr>\n",
       "      <td>Ramicane</td>\n",
       "      <td>45</td>\n",
       "      <td>30.638696</td>\n",
       "    </tr>\n",
       "    <tr>\n",
       "      <td>Infubinol</td>\n",
       "      <td>45</td>\n",
       "      <td>62.754451</td>\n",
       "    </tr>\n",
       "  </tbody>\n",
       "</table>\n",
       "<p>100 rows × 2 columns</p>\n",
       "</div>"
      ],
      "text/plain": [
       "              Timepoint  Tumor Volume (mm3)\n",
       "Drug Regimen                               \n",
       "Infubinol            45           67.973419\n",
       "Infubinol            45           65.525743\n",
       "Ceftamin             45           62.999356\n",
       "Ramicane             45           38.407618\n",
       "Ramicane             45           43.047543\n",
       "...                 ...                 ...\n",
       "Ceftamin             45           68.594745\n",
       "Capomulin            45           31.896238\n",
       "Ceftamin             45           64.729837\n",
       "Ramicane             45           30.638696\n",
       "Infubinol            45           62.754451\n",
       "\n",
       "[100 rows x 2 columns]"
      ]
     },
     "execution_count": 265,
     "metadata": {},
     "output_type": "execute_result"
    }
   ],
   "source": [
    "# Dropping 'Mouse ID' as index\n",
    "grouped_specific_tumor_volume_data_df.index = grouped_specific_tumor_volume_data_df.index.droplevel(0)\n",
    "grouped_specific_tumor_volume_data_df"
   ]
  },
  {
   "cell_type": "code",
   "execution_count": 266,
   "metadata": {},
   "outputs": [
    {
     "data": {
      "image/png": "[encoded data removed]",
      "text/plain": [
       "<Figure size 432x288 with 1 Axes>"
      ]
     },
     "metadata": {
      "needs_background": "light"
     },
     "output_type": "display_data"
    }
   ],
   "source": [
    "most_promising_regimen = ['Capomulin', 'Ramicane','Infubinol','Ceftamin']\n",
    "\n",
    "capomulin_tdata_df = grouped_specific_tumor_volume_data_df.loc['Capomulin',['Tumor Volume (mm3)']]\n",
    "capomulin_tdata = capomulin_tdata_df.iloc[:,0].values\n",
    "# print(capomulin_tdata)\n",
    "\n",
    "ramicane_tdata_df = grouped_specific_tumor_volume_data_df.loc['Ramicane',['Tumor Volume (mm3)']]\n",
    "ramicane_tdata = ramicane_tdata_df.iloc[:,0].values\n",
    "#print(ramicane_tdata)\n",
    "\n",
    "infubinol_tdata_df = grouped_specific_tumor_volume_data_df.loc['Infubinol',['Tumor Volume (mm3)']]\n",
    "infubinol_tdata = infubinol_tdata_df.iloc[:,0].values\n",
    "#print(infubinol_tdata)\n",
    "\n",
    "ceftamin_tdata_df = grouped_specific_tumor_volume_data_df.loc['Ceftamin',['Tumor Volume (mm3)']]\n",
    "ceftamin_tdata = ceftamin_tdata_df.iloc[:,0].values\n",
    "#print(ceftamin_tdata)\n",
    "\n",
    "# To plot multiple boxplots on one graph\n",
    "combined_tdata = [capomulin_tdata,ramicane_tdata,infubinol_tdata,ceftamin_tdata]\n",
    "\n",
    "fig1, ax1 = plt.subplots()\n",
    "ax1.set_title('Final Tumor Volume (mm\\u00b3) for Most Promising Drug Regimen')\n",
    "ax1.set_ylabel('Tumor Volume (mm\\u00b3)')\n",
    "ax1.set_xlabel('Drug Regimen')\n",
    "red_diamond_outliers = dict(markerfacecolor='r', marker='D')\n",
    "ax1.boxplot(combined_tdata,flierprops=red_diamond_outliers)\n",
    "ax1.set_xticklabels(most_promising_regimen,rotation=0, fontsize=10)\n",
    "plt.tight_layout()\n",
    "plt.show()"
   ]
  },
  {
   "cell_type": "code",
   "execution_count": 267,
   "metadata": {},
   "outputs": [
    {
     "data": {
      "text/html": [
       "<div>\n",
       "<style scoped>\n",
       "    .dataframe tbody tr th:only-of-type {\n",
       "        vertical-align: middle;\n",
       "    }\n",
       "\n",
       "    .dataframe tbody tr th {\n",
       "        vertical-align: top;\n",
       "    }\n",
       "\n",
       "    .dataframe thead th {\n",
       "        text-align: right;\n",
       "    }\n",
       "</style>\n",
       "<table border=\"1\" class=\"dataframe\">\n",
       "  <thead>\n",
       "    <tr style=\"text-align: right;\">\n",
       "      <th></th>\n",
       "      <th>Lower Quartile</th>\n",
       "      <th>Upper Quartile</th>\n",
       "      <th>Interquartile Range</th>\n",
       "      <th>Median</th>\n",
       "      <th>Outliers may lie below value (Lower Bound)</th>\n",
       "      <th>Outliers may lie above value (Upper Bound)</th>\n",
       "    </tr>\n",
       "    <tr>\n",
       "      <th>Drug Regimen</th>\n",
       "      <th></th>\n",
       "      <th></th>\n",
       "      <th></th>\n",
       "      <th></th>\n",
       "      <th></th>\n",
       "      <th></th>\n",
       "    </tr>\n",
       "  </thead>\n",
       "  <tbody>\n",
       "    <tr>\n",
       "      <td>Capomulin</td>\n",
       "      <td>32.38</td>\n",
       "      <td>40.16</td>\n",
       "      <td>7.78</td>\n",
       "      <td>38.13</td>\n",
       "      <td>20.70</td>\n",
       "      <td>51.83</td>\n",
       "    </tr>\n",
       "    <tr>\n",
       "      <td>Ramicane</td>\n",
       "      <td>31.56</td>\n",
       "      <td>40.66</td>\n",
       "      <td>9.10</td>\n",
       "      <td>36.56</td>\n",
       "      <td>19.89</td>\n",
       "      <td>52.33</td>\n",
       "    </tr>\n",
       "    <tr>\n",
       "      <td>Infubinol</td>\n",
       "      <td>54.05</td>\n",
       "      <td>65.53</td>\n",
       "      <td>11.48</td>\n",
       "      <td>60.17</td>\n",
       "      <td>42.38</td>\n",
       "      <td>77.20</td>\n",
       "    </tr>\n",
       "    <tr>\n",
       "      <td>Ceftamin</td>\n",
       "      <td>48.72</td>\n",
       "      <td>64.30</td>\n",
       "      <td>15.58</td>\n",
       "      <td>59.85</td>\n",
       "      <td>37.05</td>\n",
       "      <td>75.97</td>\n",
       "    </tr>\n",
       "  </tbody>\n",
       "</table>\n",
       "</div>"
      ],
      "text/plain": [
       "              Lower Quartile  Upper Quartile  Interquartile Range  Median  \\\n",
       "Drug Regimen                                                                \n",
       "Capomulin              32.38           40.16                 7.78   38.13   \n",
       "Ramicane               31.56           40.66                 9.10   36.56   \n",
       "Infubinol              54.05           65.53                11.48   60.17   \n",
       "Ceftamin               48.72           64.30                15.58   59.85   \n",
       "\n",
       "              Outliers may lie below value (Lower Bound)  \\\n",
       "Drug Regimen                                               \n",
       "Capomulin                                          20.70   \n",
       "Ramicane                                           19.89   \n",
       "Infubinol                                          42.38   \n",
       "Ceftamin                                           37.05   \n",
       "\n",
       "              Outliers may lie above value (Upper Bound)  \n",
       "Drug Regimen                                              \n",
       "Capomulin                                          51.83  \n",
       "Ramicane                                           52.33  \n",
       "Infubinol                                          77.20  \n",
       "Ceftamin                                           75.97  "
      ]
     },
     "execution_count": 267,
     "metadata": {},
     "output_type": "execute_result"
    }
   ],
   "source": [
    "# Calculate the IQR and quantitatively determine if there are any potential outliers.\n",
    "\n",
    "# For Capomulin\n",
    "quartiles1 = capomulin_tdata_df['Tumor Volume (mm3)'].quantile([0.25,0.5,0.75])\n",
    "lowerq1 = quartiles1[0.25]\n",
    "upperq1 = quartiles1[0.75]\n",
    "median1 = quartiles1[0.5]\n",
    "iqr1 = upperq1-lowerq1\n",
    "lower_bound1 = lowerq1 - (1.5*iqr)\n",
    "upper_bound1 = upperq1 + (1.5*iqr)\n",
    "\n",
    "# For Ramicane\n",
    "quartiles2 = ramicane_tdata_df['Tumor Volume (mm3)'].quantile([0.25,0.5,0.75])\n",
    "lowerq2 = quartiles2[0.25]\n",
    "upperq2 = quartiles2[0.75]\n",
    "median2 = quartiles2[0.5]\n",
    "iqr2 = upperq2-lowerq2\n",
    "lower_bound2 = lowerq2 - (1.5*iqr)\n",
    "upper_bound2 = upperq2 + (1.5*iqr)\n",
    "\n",
    "# For Infubinol\n",
    "quartiles3 = infubinol_tdata_df['Tumor Volume (mm3)'].quantile([0.25,0.5,0.75])\n",
    "lowerq3 = quartiles3[0.25]\n",
    "upperq3 = quartiles3[0.75]\n",
    "median3 = quartiles3[0.5]\n",
    "iqr3 = upperq3-lowerq3\n",
    "lower_bound3 = lowerq3 - (1.5*iqr)\n",
    "upper_bound3 = upperq3 + (1.5*iqr)\n",
    "\n",
    "# For Ceftamin\n",
    "quartiles4 = ceftamin_tdata_df['Tumor Volume (mm3)'].quantile([0.25,0.5,0.75])\n",
    "lowerq4 = quartiles4[0.25]\n",
    "upperq4 = quartiles4[0.75]\n",
    "median4 = quartiles4[0.5]\n",
    "iqr4 = upperq4-lowerq4\n",
    "lower_bound4 = lowerq4 - (1.5*iqr)\n",
    "upper_bound4 = upperq4 + (1.5*iqr)\n",
    "\n",
    "outliers_summary = {\"Drug Regimen\": most_promising_regimen,\n",
    "                       \"Lower Quartile\": np.round([lowerq1,lowerq2,lowerq3,lowerq4],2),\n",
    "                       \"Upper Quartile\": np.round([upperq1,upperq2,upperq3,upperq4],2),\n",
    "                       \"Interquartile Range\": np.round([iqr1,iqr2,iqr3,iqr4],2),\n",
    "                       \"Median\": np.round([median1,median2,median3,median4],2),\n",
    "                       \"Outliers may lie below value (Lower Bound)\": np.round([lower_bound1,lower_bound2,lower_bound3,lower_bound4],2),\n",
    "                       \"Outliers may lie above value (Upper Bound)\": np.round([upper_bound1,upper_bound2,upper_bound3,upper_bound4],2)}\n",
    "outliers_summary_df = pd.DataFrame(outliers_summary).set_index(['Drug Regimen'])\n",
    "outliers_summary_df        "
   ]
  },
  {
   "cell_type": "markdown",
   "metadata": {},
   "source": [
    "# Line Plots"
   ]
  },
  {
   "cell_type": "code",
   "execution_count": 268,
   "metadata": {},
   "outputs": [
    {
     "data": {
      "image/png": "[encoded data removed]",
      "text/plain": [
       "<Figure size 432x288 with 1 Axes>"
      ]
     },
     "metadata": {
      "needs_background": "light"
     },
     "output_type": "display_data"
    }
   ],
   "source": [
    "# Generate a line plot of time point versus tumor volume for a mouse treated with Capomulin\n",
    "\n",
    "# Creating a dataframe with capomulin tumor data\n",
    "capomulin_tumor_data = tumor_volume_data.loc[(tumor_volume_data['Drug Regimen'] == 'Capomulin')]\n",
    "# capomulin_tumor_data\n",
    "\n",
    "# List to store capomulin tumor data separately for every mouse\n",
    "capomulin_tumor_data_permouse = []\n",
    "\n",
    "for mouse in (capomulin_tumor_data['Mouse ID'].unique()):\n",
    "    capomulin_tumor_data_permouse.append(capomulin_tumor_data.loc[(capomulin_tumor_data['Mouse ID'] == mouse)])\n",
    "    \n",
    "# capomulin_tumor_data_permouse\n",
    "\n",
    "# For the purpose of this assignment, taking into account first mouse at 0th index\n",
    "time = capomulin_tumor_data_permouse[0]['Timepoint']\n",
    "# time\n",
    "tum_vol = capomulin_tumor_data_permouse[0]['Tumor Volume (mm3)']\n",
    "#tum_vol\n",
    "\n",
    "# Plotting line graph\n",
    "x_axis = np.arange(len(time))\n",
    "tick_locations = [value for value in x_axis]\n",
    "\n",
    "capomulin_line_plot = plt.plot(x_axis,tum_vol,marker='o',color='red')\n",
    "plt.title(f\"Effect on Tumor Volume by Capomulin on mouse: {capomulin_tumor_data_permouse[0]['Mouse ID'][10]}\")\n",
    "plt.xlabel(\"Time (in days)\")\n",
    "plt.ylabel(\"Tumor Volume (in mm\\u00b3)\")\n",
    "plt.xticks(tick_locations,time)\n",
    "          \n",
    "for x,y in zip(x_axis,tum_vol):\n",
    "    label = \"{:.2f}\".format(y)\n",
    "    plt.annotate(label,(x,y),textcoords=\"offset points\",xytext=(0,10),ha='left',va='baseline')\n",
    "          \n",
    "plt.grid(alpha=0.25)\n",
    "plt.xlim(-0.35, x_axis.max()+0.8)\n",
    "plt.ylim(22.5, tum_vol.max()+2.5)\n",
    "plt.tight_layout()\n",
    "plt.show()"
   ]
  },
  {
   "cell_type": "markdown",
   "metadata": {},
   "source": [
    "# Scatter Plots"
   ]
  },
  {
   "cell_type": "code",
   "execution_count": 269,
   "metadata": {},
   "outputs": [],
   "source": [
    "# Generate a scatter plot of mouse weight versus average tumor volume for the Capomulin regimen"
   ]
  },
  {
   "cell_type": "code",
   "execution_count": 270,
   "metadata": {},
   "outputs": [],
   "source": [
    "# Collecting all Capomulin data in a separate dataframe\n",
    "capomulin_data = mouse_study_data.loc[(tumor_volume_data['Drug Regimen'] == 'Capomulin')]\n",
    "\n",
    "# Grouping Dataframe by Mouse ID for analysis\n",
    "grouped_capomulin_data = capomulin_data.groupby('Mouse ID')\n",
    "\n",
    "# Calculating average tumor volume for each mouse treated with Capomulin\n",
    "avg_tumor_vol = grouped_capomulin_data['Tumor Volume (mm3)'].mean()\n",
    "# avg_tumor_vol\n",
    "\n",
    "# Collecting weight in grams for each mouse treated with Capomulin\n",
    "mouse_wt = grouped_capomulin_data['Weight (g)'].mean()\n",
    "# mouse_wt\n",
    "\n",
    "# Combining values in a summary dataframe\n",
    "tumvol_vs_wt_df = pd.DataFrame({\"Mouse Weight (g)\": mouse_wt,\n",
    "                 \"Average Tumor Volume\": round(avg_tumor_vol,2)})\n",
    "# tumvol_vs_wt_df.dtypes"
   ]
  },
  {
   "cell_type": "code",
   "execution_count": 271,
   "metadata": {},
   "outputs": [
    {
     "data": {
      "image/png": "[encoded data removed]",
      "text/plain": [
       "<Figure size 432x288 with 1 Axes>"
      ]
     },
     "metadata": {
      "needs_background": "light"
     },
     "output_type": "display_data"
    }
   ],
   "source": [
    "x_values = tumvol_vs_wt_df['Mouse Weight (g)']\n",
    "y_values = y=tumvol_vs_wt_df['Average Tumor Volume']\n",
    "scatterplot = plt.scatter(x=x_values,\n",
    "                          y=y_values,\n",
    "                          marker=\"o\",\n",
    "                          facecolors=\"red\",\n",
    "                          edgecolors=\"black\",\n",
    "                          s=tumvol_vs_wt_df['Average Tumor Volume'],\n",
    "                          alpha=0.75)\n",
    "plt.title(f\"Mice Weight vs Average Tumor Volume for Capomulin\")\n",
    "plt.xlabel(\"Weight (in g)\")\n",
    "plt.ylabel(\"Average Tumor Volume (mm\\u00b3)\")\n",
    "plt.grid(alpha=0.25)\n",
    "plt.tight_layout()\n",
    "plt.show()"
   ]
  },
  {
   "cell_type": "code",
   "execution_count": 272,
   "metadata": {},
   "outputs": [
    {
     "name": "stdout",
     "output_type": "stream",
     "text": [
      "The correlation coefficient is: 0.84\n",
      "The r-squared is: 0.84\n"
     ]
    },
    {
     "data": {
      "image/png": "[encoded data removed]",
      "text/plain": [
       "<Figure size 432x288 with 1 Axes>"
      ]
     },
     "metadata": {
      "needs_background": "light"
     },
     "output_type": "display_data"
    }
   ],
   "source": [
    "# Calculate the correlation coefficient and linear regression model for mouse weight and average tumor volume for the Capomulin regimen\n",
    "\n",
    "correlation_coefficient = round(sts.pearsonr(x_values,y_values)[0],2)\n",
    "# correlation_coefficient = round(sts.pearsonr(mouse_wt,avg_tumor_vol)[0],2)\n",
    "# correlation_coefficient\n",
    "\n",
    "(slope, intercept, rvalue, pvalue, stderr) = linregress(x_values, y_values)\n",
    "regress_values = x_values * slope + intercept\n",
    "line_eq = \"y = \" + str(round(slope,2)) + \"x + \" + str(round(intercept,2))\n",
    "scatterplot = plt.scatter(x=x_values,\n",
    "                          y=y_values,\n",
    "                          marker=\"o\",\n",
    "                          facecolors=\"blue\",\n",
    "                          edgecolors=\"black\",\n",
    "                          s=tumvol_vs_wt_df['Average Tumor Volume'],\n",
    "                          alpha=0.5)\n",
    "plt.title(f\"Mice Weight vs Average Tumor Volume for Capomulin\")\n",
    "plt.xlabel(\"Weight (in g)\")\n",
    "plt.ylabel(\"Average Tumor Volume (mm\\u00b3)\")\n",
    "plt.plot(x_values,regress_values,\"y-\")\n",
    "plt.annotate(line_eq,(20,36),fontsize=15,color=\"olivedrab\")\n",
    "print(f\"The correlation coefficient is: {correlation_coefficient}\")\n",
    "print(f\"The r-squared is: {round(rvalue,2)}\")\n",
    "plt.grid(alpha=0.25)\n",
    "plt.tight_layout()\n",
    "plt.show()"
   ]
  },
  {
   "cell_type": "code",
   "execution_count": null,
   "metadata": {},
   "outputs": [],
   "source": []
  }
 ],
 "metadata": {
  "kernelspec": {
   "display_name": "Python 3",
   "language": "python",
   "name": "python3"
  },
  "language_info": {
   "codemirror_mode": {
    "name": "ipython",
    "version": 3
   },
   "file_extension": ".py",
   "mimetype": "text/x-python",
   "name": "python",
   "nbconvert_exporter": "python",
   "pygments_lexer": "ipython3",
   "version": "3.7.4"
  }
 },
 "nbformat": 4,
 "nbformat_minor": 4
}
